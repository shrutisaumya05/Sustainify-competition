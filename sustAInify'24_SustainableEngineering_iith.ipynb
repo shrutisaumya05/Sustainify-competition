{
 "cells": [
  {
   "cell_type": "code",
   "execution_count": 1,
   "id": "fbe5cdc3",
   "metadata": {
    "scrolled": true
   },
   "outputs": [
    {
     "name": "stdout",
     "output_type": "stream",
     "text": [
      "Requirement already satisfied: pymoo in c:\\users\\shrut\\anaconda3\\lib\\site-packages (0.6.1.1)\n",
      "Requirement already satisfied: numpy>=1.15 in c:\\users\\shrut\\anaconda3\\lib\\site-packages (from pymoo) (1.24.3)\n",
      "Requirement already satisfied: scipy>=1.1 in c:\\users\\shrut\\anaconda3\\lib\\site-packages (from pymoo) (1.10.1)\n",
      "Requirement already satisfied: matplotlib>=3 in c:\\users\\shrut\\anaconda3\\lib\\site-packages (from pymoo) (3.7.1)\n",
      "Requirement already satisfied: autograd>=1.4 in c:\\users\\shrut\\anaconda3\\lib\\site-packages (from pymoo) (1.6.2)\n",
      "Requirement already satisfied: cma==3.2.2 in c:\\users\\shrut\\anaconda3\\lib\\site-packages (from pymoo) (3.2.2)\n",
      "Requirement already satisfied: alive-progress in c:\\users\\shrut\\anaconda3\\lib\\site-packages (from pymoo) (3.1.4)\n",
      "Requirement already satisfied: dill in c:\\users\\shrut\\anaconda3\\lib\\site-packages (from pymoo) (0.3.6)\n",
      "Requirement already satisfied: Deprecated in c:\\users\\shrut\\anaconda3\\lib\\site-packages (from pymoo) (1.2.14)\n",
      "Requirement already satisfied: future>=0.15.2 in c:\\users\\shrut\\anaconda3\\lib\\site-packages (from autograd>=1.4->pymoo) (0.18.3)\n",
      "Requirement already satisfied: contourpy>=1.0.1 in c:\\users\\shrut\\anaconda3\\lib\\site-packages (from matplotlib>=3->pymoo) (1.0.5)\n",
      "Requirement already satisfied: cycler>=0.10 in c:\\users\\shrut\\anaconda3\\lib\\site-packages (from matplotlib>=3->pymoo) (0.11.0)\n",
      "Requirement already satisfied: fonttools>=4.22.0 in c:\\users\\shrut\\anaconda3\\lib\\site-packages (from matplotlib>=3->pymoo) (4.25.0)\n",
      "Requirement already satisfied: kiwisolver>=1.0.1 in c:\\users\\shrut\\anaconda3\\lib\\site-packages (from matplotlib>=3->pymoo) (1.4.4)\n",
      "Requirement already satisfied: packaging>=20.0 in c:\\users\\shrut\\anaconda3\\lib\\site-packages (from matplotlib>=3->pymoo) (23.0)\n",
      "Requirement already satisfied: pillow>=6.2.0 in c:\\users\\shrut\\anaconda3\\lib\\site-packages (from matplotlib>=3->pymoo) (9.4.0)\n",
      "Requirement already satisfied: pyparsing>=2.3.1 in c:\\users\\shrut\\anaconda3\\lib\\site-packages (from matplotlib>=3->pymoo) (3.0.9)\n",
      "Requirement already satisfied: python-dateutil>=2.7 in c:\\users\\shrut\\anaconda3\\lib\\site-packages (from matplotlib>=3->pymoo) (2.8.2)\n",
      "Requirement already satisfied: about-time==4.2.1 in c:\\users\\shrut\\anaconda3\\lib\\site-packages (from alive-progress->pymoo) (4.2.1)\n",
      "Requirement already satisfied: grapheme==0.6.0 in c:\\users\\shrut\\anaconda3\\lib\\site-packages (from alive-progress->pymoo) (0.6.0)\n",
      "Requirement already satisfied: wrapt<2,>=1.10 in c:\\users\\shrut\\anaconda3\\lib\\site-packages (from Deprecated->pymoo) (1.14.1)\n",
      "Requirement already satisfied: six>=1.5 in c:\\users\\shrut\\anaconda3\\lib\\site-packages (from python-dateutil>=2.7->matplotlib>=3->pymoo) (1.16.0)\n"
     ]
    }
   ],
   "source": [
    "!pip install pymoo"
   ]
  },
  {
   "cell_type": "markdown",
   "id": "fe21a726",
   "metadata": {},
   "source": [
    "####  Part 3: Assume that the plant is operating on 1st January 2018. From the predicted price and other parameters (given in Details section), optimise the electricity procurement costs along with its environmental impact (in terms of Carbon Footprint) while ensuring a minimum of 20% renewable electricity utilisation in its energy mix and report the following optimised quantities for the plant:"
   ]
  },
  {
   "cell_type": "markdown",
   "id": "f33b3cca",
   "metadata": {},
   "source": [
    "    a) Optimised Percentage of the Total Renewable Electricity out of the Total Electricity \n",
    "    b) Optimised Quantity of Electricity to be drawn from the State Electricity Grid \n",
    "    c) Optimised Quantity of Electricity to be drawn from the Power Exchange"
   ]
  },
  {
   "cell_type": "code",
   "execution_count": 8,
   "id": "3337d552",
   "metadata": {
    "scrolled": false
   },
   "outputs": [
    {
     "name": "stdout",
     "output_type": "stream",
     "text": [
      "* Carbon footprint:907.18\n",
      "a) Optimised Percentage of Total Renewable Electricity of Total Electricity: 20.43%\n",
      "b) Optimised Quantity of Electricity drawn from State Electricity Grid on 1st January 2018 (Quant_Grid): 426.55 MWh\n",
      "c) Optimised Quantity of Electricity drawn from the Power Exchange on 1st January 2018 (Quant_Exchange): 623.53 MWh\n"
     ]
    },
    {
     "data": {
      "text/plain": [
       "<pymoo.visualization.scatter.Scatter at 0x1b3ca145590>"
      ]
     },
     "execution_count": 8,
     "metadata": {},
     "output_type": "execute_result"
    },
    {
     "data": {
      "image/png": "[encoded data removed]",
      "text/plain": [
       "<Figure size 800x600 with 1 Axes>"
      ]
     },
     "metadata": {},
     "output_type": "display_data"
    }
   ],
   "source": [
    "import numpy as np\n",
    "import pandas as pd\n",
    "from pymoo.algorithms.moo.nsga2 import NSGA2 #using non-dominant sorting genetic algorithm\n",
    "from pymoo.core.problem import Problem\n",
    "from pymoo.optimize import minimize\n",
    "from pymoo.visualization.scatter import Scatter\n",
    "\n",
    "class Electricity_Optimization(Problem):\n",
    "    def __init__(self, exchange_costs):\n",
    "        super().__init__(n_var=2, n_obj=2, n_constr=2, xl=np.array([0, 0]), xu=np.array([1050, 1050]))\n",
    "        #upper bound as 1050 because 150 MWhr/day is procured from captive solar power plant\n",
    "        self.exchange_costs = exchange_costs\n",
    "\n",
    "    def _evaluate(self, x, out, *args, **kwargs):\n",
    "        # Fixed Parameters\n",
    "        total_demand= 1200 # MWh/Day\n",
    "        Quant_solar = 150  # MWh/Day\n",
    "        cost_grid = 57.62  # EUR/MWh per day\n",
    "        carbon_footprint = 0.95  # MTCO2e/MWh\n",
    "\n",
    "        # Decision Variables\n",
    "        Quant_grid = x[:, 0]\n",
    "        Quant_exchange = x[:, 1]\n",
    "\n",
    "        # To get the exchange costs for a current date (we take 1st january 2018)\n",
    "        current_date_index = kwargs.get(\"current_date_index\",1)\n",
    "        current_date = list(self.exchange_costs.keys())[current_date_index]\n",
    "        exchange_cost = self.exchange_costs[current_date]\n",
    "\n",
    "        # Objective functions\n",
    "        total_cost_grid = Quant_grid * cost_grid\n",
    "        total_cost_exchange = Quant_exchange * exchange_cost\n",
    "        grandtotal_cost = total_cost_grid + total_cost_exchange\n",
    "        total_carbon_footprint =((0.85 * Quant_grid) + (0.95 * Quant_exchange)) * carbon_footprint\n",
    "\n",
    "        out[\"F\"] = np.column_stack([grandtotal_cost, total_carbon_footprint])\n",
    "\n",
    "        # Constraints\n",
    "        out[\"G\"] = np.column_stack([total_demand - (Quant_grid + Quant_exchange + Quant_solar),  # Demand constraint\n",
    "                                    0.20 * total_demand - ((0.15 * Quant_grid) + (0.05 * Quant_exchange) + Quant_solar)]) \n",
    "                                   #renewable share constraint\n",
    "            \n",
    "# Reading the excel file for exchange electricity procurement cost for year 2018        \n",
    "exchange_costs_df = pd.read_excel(\"Power Exchange Data_2018.xlsx\")\n",
    "exchange_costs_dict = exchange_costs_df.set_index('Date')['Prices (EUR/MWh)'].to_dict()\n",
    "\n",
    "# Create the problem instance with exchange costs\n",
    "problem = Electricity_Optimization(exchange_costs=exchange_costs_dict)\n",
    "\n",
    "# Defining the algorithm\n",
    "algorithm = NSGA2(pop_size=100)\n",
    "\n",
    "# Defining the optimization\n",
    "res = minimize(problem, algorithm, ('n_gen', 100), seed=1, verbose=False)\n",
    "\n",
    "# Extracting the optimized solution\n",
    "distances = np.sqrt(np.sum(res.F**2, axis=1)) #Euclidean distance from both the variables for 365 days\n",
    "optimal_solution_index = np.argmin(distances) # Opting the solution with minimum cost and minimum carbon footprint\n",
    "optimal_solution = np.clip(res.X[optimal_solution_index], [0, 0], [1050, 1050])  # Ensuring values are within bounds for both variables\n",
    "\n",
    "# Extract the optimized quantities\n",
    "Quant_grid_optimized, Quant_exchange_optimized = optimal_solution\n",
    "\n",
    "# Calculate the total renewable electricity\n",
    "Quant_solar = 150  # MWh/Day\n",
    "total_renewable = (0.15 * Quant_grid_optimized) + (0.05 * Quant_exchange_optimized) + Quant_solar  \n",
    "\n",
    "# Calculating the percentage of carbon footprint, total renewable electricity of total electricity\n",
    "carbon_footprint = 0.95\n",
    "total_carbon_footprint=((0.85 * Quant_grid_optimized) + (0.95 * Quant_exchange_optimized)) * carbon_footprint\n",
    "percentage_renewable = (total_renewable / (Quant_grid_optimized + Quant_exchange_optimized + Quant_solar)) * 100\n",
    "\n",
    "# Displaying the results\n",
    "print(\"* Carbon footprint:{:.2f}\".format(total_carbon_footprint))\n",
    "print(\"a) Optimised Percentage of Total Renewable Electricity of Total Electricity: {:.2f}%\".format(percentage_renewable))\n",
    "print(\"b) Optimised Quantity of Electricity drawn from State Electricity Grid on 1st January 2018 (Quant_Grid): {:.2f} MWh\".format(Quant_grid_optimized))\n",
    "print(\"c) Optimised Quantity of Electricity drawn from the Power Exchange on 1st January 2018 (Quant_Exchange): {:.2f} MWh\".format(Quant_exchange_optimized))\n",
    "\n",
    "\n",
    "# Plotting the pareto front graph for that particular day\n",
    "plot = Scatter(title=\"Pareto Front\")\n",
    "plot.add(res.F, color=\"green\", label=\"Optimized Solutions\")\n",
    "plot.show()"
   ]
  },
  {
   "cell_type": "code",
   "execution_count": 9,
   "id": "0b22ad38",
   "metadata": {},
   "outputs": [
    {
     "data": {
      "text/html": [
       "<div>\n",
       "<style scoped>\n",
       "    .dataframe tbody tr th:only-of-type {\n",
       "        vertical-align: middle;\n",
       "    }\n",
       "\n",
       "    .dataframe tbody tr th {\n",
       "        vertical-align: top;\n",
       "    }\n",
       "\n",
       "    .dataframe thead th {\n",
       "        text-align: right;\n",
       "    }\n",
       "</style>\n",
       "<table border=\"1\" class=\"dataframe\">\n",
       "  <thead>\n",
       "    <tr style=\"text-align: right;\">\n",
       "      <th></th>\n",
       "      <th>Unnamed: 0</th>\n",
       "      <th>Date</th>\n",
       "      <th>Prices (EUR/MWh)</th>\n",
       "    </tr>\n",
       "  </thead>\n",
       "  <tbody>\n",
       "    <tr>\n",
       "      <th>0</th>\n",
       "      <td>0</td>\n",
       "      <td>2018-01-01</td>\n",
       "      <td>54.013573</td>\n",
       "    </tr>\n",
       "    <tr>\n",
       "      <th>1</th>\n",
       "      <td>1</td>\n",
       "      <td>2018-01-02</td>\n",
       "      <td>54.679552</td>\n",
       "    </tr>\n",
       "    <tr>\n",
       "      <th>2</th>\n",
       "      <td>2</td>\n",
       "      <td>2018-01-03</td>\n",
       "      <td>65.955168</td>\n",
       "    </tr>\n",
       "    <tr>\n",
       "      <th>3</th>\n",
       "      <td>3</td>\n",
       "      <td>2018-01-04</td>\n",
       "      <td>65.817036</td>\n",
       "    </tr>\n",
       "    <tr>\n",
       "      <th>4</th>\n",
       "      <td>4</td>\n",
       "      <td>2018-01-05</td>\n",
       "      <td>60.317153</td>\n",
       "    </tr>\n",
       "    <tr>\n",
       "      <th>...</th>\n",
       "      <td>...</td>\n",
       "      <td>...</td>\n",
       "      <td>...</td>\n",
       "    </tr>\n",
       "    <tr>\n",
       "      <th>360</th>\n",
       "      <td>360</td>\n",
       "      <td>2018-12-27</td>\n",
       "      <td>33.204243</td>\n",
       "    </tr>\n",
       "    <tr>\n",
       "      <th>361</th>\n",
       "      <td>361</td>\n",
       "      <td>2018-12-28</td>\n",
       "      <td>36.104304</td>\n",
       "    </tr>\n",
       "    <tr>\n",
       "      <th>362</th>\n",
       "      <td>362</td>\n",
       "      <td>2018-12-29</td>\n",
       "      <td>31.379290</td>\n",
       "    </tr>\n",
       "    <tr>\n",
       "      <th>363</th>\n",
       "      <td>363</td>\n",
       "      <td>2018-12-30</td>\n",
       "      <td>25.881253</td>\n",
       "    </tr>\n",
       "    <tr>\n",
       "      <th>364</th>\n",
       "      <td>364</td>\n",
       "      <td>2018-12-31</td>\n",
       "      <td>31.735762</td>\n",
       "    </tr>\n",
       "  </tbody>\n",
       "</table>\n",
       "<p>365 rows × 3 columns</p>\n",
       "</div>"
      ],
      "text/plain": [
       "     Unnamed: 0       Date  Prices (EUR/MWh)\n",
       "0             0 2018-01-01         54.013573\n",
       "1             1 2018-01-02         54.679552\n",
       "2             2 2018-01-03         65.955168\n",
       "3             3 2018-01-04         65.817036\n",
       "4             4 2018-01-05         60.317153\n",
       "..          ...        ...               ...\n",
       "360         360 2018-12-27         33.204243\n",
       "361         361 2018-12-28         36.104304\n",
       "362         362 2018-12-29         31.379290\n",
       "363         363 2018-12-30         25.881253\n",
       "364         364 2018-12-31         31.735762\n",
       "\n",
       "[365 rows x 3 columns]"
      ]
     },
     "execution_count": 9,
     "metadata": {},
     "output_type": "execute_result"
    }
   ],
   "source": [
    "exchange_costs_df"
   ]
  },
  {
   "cell_type": "code",
   "execution_count": null,
   "id": "ea79b335",
   "metadata": {},
   "outputs": [],
   "source": []
  }
 ],
 "metadata": {
  "kernelspec": {
   "display_name": "Python 3 (ipykernel)",
   "language": "python",
   "name": "python3"
  },
  "language_info": {
   "codemirror_mode": {
    "name": "ipython",
    "version": 3
   },
   "file_extension": ".py",
   "mimetype": "text/x-python",
   "name": "python",
   "nbconvert_exporter": "python",
   "pygments_lexer": "ipython3",
   "version": "3.11.4"
  }
 },
 "nbformat": 4,
 "nbformat_minor": 5
}
